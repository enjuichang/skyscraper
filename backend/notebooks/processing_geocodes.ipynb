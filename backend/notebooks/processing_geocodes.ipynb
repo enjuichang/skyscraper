{
 "cells": [
  {
   "cell_type": "code",
   "execution_count": 7,
   "metadata": {},
   "outputs": [
    {
     "data": {
      "text/plain": [
       "(40.7127281, -74.0060152)"
      ]
     },
     "execution_count": 7,
     "metadata": {},
     "output_type": "execute_result"
    }
   ],
   "source": [
    "import sys\n",
    "import os\n",
    "# Get the directory of the current notebook\n",
    "notebook_dir = os.getcwd()\n",
    "# Navigate up one directory to get the base directory\n",
    "base_dir = os.path.dirname(notebook_dir)\n",
    "# Set up directory to import data from utils\n",
    "sys.path.append(f'{base_dir}/utils')\n",
    "\n",
    "# Import logic\n",
    "import geocode_processor as processor\n"
   ]
  },
  {
   "cell_type": "code",
   "execution_count": null,
   "metadata": {},
   "outputs": [],
   "source": [
    "processor.get_coordinates(\"New York\")"
   ]
  }
 ],
 "metadata": {
  "kernelspec": {
   "display_name": "venv",
   "language": "python",
   "name": "python3"
  },
  "language_info": {
   "codemirror_mode": {
    "name": "ipython",
    "version": 3
   },
   "file_extension": ".py",
   "mimetype": "text/x-python",
   "name": "python",
   "nbconvert_exporter": "python",
   "pygments_lexer": "ipython3",
   "version": "3.11.3"
  }
 },
 "nbformat": 4,
 "nbformat_minor": 2
}
